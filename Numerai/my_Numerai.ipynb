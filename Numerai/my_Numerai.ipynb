{
  "nbformat": 4,
  "nbformat_minor": 0,
  "metadata": {
    "colab": {
      "name": "my_Numerai.ipynb",
      "provenance": [],
      "collapsed_sections": [],
      "authorship_tag": "ABX9TyMACwKU5UjRDosygUqPUQyu",
      "include_colab_link": true
    },
    "kernelspec": {
      "name": "python3",
      "display_name": "Python 3"
    }
  },
  "cells": [
    {
      "cell_type": "markdown",
      "metadata": {
        "id": "view-in-github",
        "colab_type": "text"
      },
      "source": [
        "<a href=\"https://colab.research.google.com/github/yonedahayato/stock_strategy/blob/feature%2F49/Numerai/my_Numerai.ipynb\" target=\"_parent\"><img src=\"https://colab.research.google.com/assets/colab-badge.svg\" alt=\"Open In Colab\"/></a>"
      ]
    },
    {
      "cell_type": "code",
      "metadata": {
        "id": "ZLYKtFse4E3r",
        "colab_type": "code",
        "colab": {
          "base_uri": "https://localhost:8080/",
          "height": 136
        },
        "outputId": "e4ac6bc2-065b-4934-cd8b-f73bbeaf2e10"
      },
      "source": [
        "!git clone https://github.com/yonedahayato/stock_strategy.git"
      ],
      "execution_count": 1,
      "outputs": [
        {
          "output_type": "stream",
          "text": [
            "Cloning into 'stock_strategy'...\n",
            "remote: Enumerating objects: 153, done.\u001b[K\n",
            "remote: Counting objects:   0% (1/153)\u001b[K\rremote: Counting objects:   1% (2/153)\u001b[K\rremote: Counting objects:   2% (4/153)\u001b[K\rremote: Counting objects:   3% (5/153)\u001b[K\rremote: Counting objects:   4% (7/153)\u001b[K\rremote: Counting objects:   5% (8/153)\u001b[K\rremote: Counting objects:   6% (10/153)\u001b[K\rremote: Counting objects:   7% (11/153)\u001b[K\rremote: Counting objects:   8% (13/153)\u001b[K\rremote: Counting objects:   9% (14/153)\u001b[K\rremote: Counting objects:  10% (16/153)\u001b[K\rremote: Counting objects:  11% (17/153)\u001b[K\rremote: Counting objects:  12% (19/153)\u001b[K\rremote: Counting objects:  13% (20/153)\u001b[K\rremote: Counting objects:  14% (22/153)\u001b[K\rremote: Counting objects:  15% (23/153)\u001b[K\rremote: Counting objects:  16% (25/153)\u001b[K\rremote: Counting objects:  17% (27/153)\u001b[K\rremote: Counting objects:  18% (28/153)\u001b[K\rremote: Counting objects:  19% (30/153)\u001b[K\rremote: Counting objects:  20% (31/153)\u001b[K\rremote: Counting objects:  21% (33/153)\u001b[K\rremote: Counting objects:  22% (34/153)\u001b[K\rremote: Counting objects:  23% (36/153)\u001b[K\rremote: Counting objects:  24% (37/153)\u001b[K\rremote: Counting objects:  25% (39/153)\u001b[K\rremote: Counting objects:  26% (40/153)\u001b[K\rremote: Counting objects:  27% (42/153)\u001b[K\rremote: Counting objects:  28% (43/153)\u001b[K\rremote: Counting objects:  29% (45/153)\u001b[K\rremote: Counting objects:  30% (46/153)\u001b[K\rremote: Counting objects:  31% (48/153)\u001b[K\rremote: Counting objects:  32% (49/153)\u001b[K\rremote: Counting objects:  33% (51/153)\u001b[K\rremote: Counting objects:  34% (53/153)\u001b[K\rremote: Counting objects:  35% (54/153)\u001b[K\rremote: Counting objects:  36% (56/153)\u001b[K\rremote: Counting objects:  37% (57/153)\u001b[K\rremote: Counting objects:  38% (59/153)\u001b[K\rremote: Counting objects:  39% (60/153)\u001b[K\rremote: Counting objects:  40% (62/153)\u001b[K\rremote: Counting objects:  41% (63/153)\u001b[K\rremote: Counting objects:  42% (65/153)\u001b[K\rremote: Counting objects:  43% (66/153)\u001b[K\rremote: Counting objects:  44% (68/153)\u001b[K\rremote: Counting objects:  45% (69/153)\u001b[K\rremote: Counting objects:  46% (71/153)\u001b[K\rremote: Counting objects:  47% (72/153)\u001b[K\rremote: Counting objects:  48% (74/153)\u001b[K\rremote: Counting objects:  49% (75/153)\u001b[K\rremote: Counting objects:  50% (77/153)\u001b[K\rremote: Counting objects:  51% (79/153)\u001b[K\rremote: Counting objects:  52% (80/153)\u001b[K\rremote: Counting objects:  53% (82/153)\u001b[K\rremote: Counting objects:  54% (83/153)\u001b[K\rremote: Counting objects:  55% (85/153)\u001b[K\rremote: Counting objects:  56% (86/153)\u001b[K\rremote: Counting objects:  57% (88/153)\u001b[K\rremote: Counting objects:  58% (89/153)\u001b[K\rremote: Counting objects:  59% (91/153)\u001b[K\rremote: Counting objects:  60% (92/153)\u001b[K\rremote: Counting objects:  61% (94/153)\u001b[K\rremote: Counting objects:  62% (95/153)\u001b[K\rremote: Counting objects:  63% (97/153)\u001b[K\rremote: Counting objects:  64% (98/153)\u001b[K\rremote: Counting objects:  65% (100/153)\u001b[K\rremote: Counting objects:  66% (101/153)\u001b[K\rremote: Counting objects:  67% (103/153)\u001b[K\rremote: Counting objects:  68% (105/153)\u001b[K\rremote: Counting objects:  69% (106/153)\u001b[K\rremote: Counting objects:  70% (108/153)\u001b[K\rremote: Counting objects:  71% (109/153)\u001b[K\rremote: Counting objects:  72% (111/153)\u001b[K\rremote: Counting objects:  73% (112/153)\u001b[K\rremote: Counting objects:  74% (114/153)\u001b[K\rremote: Counting objects:  75% (115/153)\u001b[K\rremote: Counting objects:  76% (117/153)\u001b[K\rremote: Counting objects:  77% (118/153)\u001b[K\rremote: Counting objects:  78% (120/153)\u001b[K\rremote: Counting objects:  79% (121/153)\u001b[K\rremote: Counting objects:  80% (123/153)\u001b[K\rremote: Counting objects:  81% (124/153)\u001b[K\rremote: Counting objects:  82% (126/153)\u001b[K\rremote: Counting objects:  83% (127/153)\u001b[K\rremote: Counting objects:  84% (129/153)\u001b[K\rremote: Counting objects:  85% (131/153)\u001b[K\rremote: Counting objects:  86% (132/153)\u001b[K\rremote: Counting objects:  87% (134/153)\u001b[K\rremote: Counting objects:  88% (135/153)\u001b[K\rremote: Counting objects:  89% (137/153)\u001b[K\rremote: Counting objects:  90% (138/153)\u001b[K\rremote: Counting objects:  91% (140/153)\u001b[K\rremote: Counting objects:  92% (141/153)\u001b[K\rremote: Counting objects:  93% (143/153)\u001b[K\rremote: Counting objects:  94% (144/153)\u001b[K\rremote: Counting objects:  95% (146/153)\u001b[K\rremote: Counting objects:  96% (147/153)\u001b[K\rremote: Counting objects:  97% (149/153)\u001b[K\rremote: Counting objects:  98% (150/153)\u001b[K\rremote: Counting objects:  99% (152/153)\u001b[K\rremote: Counting objects: 100% (153/153)\u001b[K\rremote: Counting objects: 100% (153/153), done.\u001b[K\n",
            "remote: Compressing objects: 100% (94/94), done.\u001b[K\n",
            "remote: Total 1897 (delta 74), reused 110 (delta 44), pack-reused 1744\u001b[K\n",
            "Receiving objects: 100% (1897/1897), 1.94 MiB | 24.79 MiB/s, done.\n",
            "Resolving deltas: 100% (1154/1154), done.\n"
          ],
          "name": "stdout"
        }
      ]
    },
    {
      "cell_type": "code",
      "metadata": {
        "id": "oBA0BmHd4xP2",
        "colab_type": "code",
        "colab": {
          "base_uri": "https://localhost:8080/",
          "height": 68
        },
        "outputId": "71896ca3-7ff6-4c03-ca43-fdadf1763341"
      },
      "source": [
        "%cd stock_strategy/\n",
        "!git checkout feature/49"
      ],
      "execution_count": 2,
      "outputs": [
        {
          "output_type": "stream",
          "text": [
            "/content/stock_strategy\n",
            "Branch 'feature/49' set up to track remote branch 'feature/49' from 'origin'.\n",
            "Switched to a new branch 'feature/49'\n"
          ],
          "name": "stdout"
        }
      ]
    },
    {
      "cell_type": "code",
      "metadata": {
        "id": "riZFWCdg9Jrs",
        "colab_type": "code",
        "colab": {
          "base_uri": "https://localhost:8080/",
          "height": 170
        },
        "outputId": "7bd44fc8-346a-4ecb-b5df-a8dbbdc3fe21"
      },
      "source": [
        "!git fetch\n",
        "!git rebase"
      ],
      "execution_count": 70,
      "outputs": [
        {
          "output_type": "stream",
          "text": [
            "remote: Enumerating objects: 10, done.\u001b[K\n",
            "remote: Counting objects:  10% (1/10)\u001b[K\rremote: Counting objects:  20% (2/10)\u001b[K\rremote: Counting objects:  30% (3/10)\u001b[K\rremote: Counting objects:  40% (4/10)\u001b[K\rremote: Counting objects:  50% (5/10)\u001b[K\rremote: Counting objects:  60% (6/10)\u001b[K\rremote: Counting objects:  70% (7/10)\u001b[K\rremote: Counting objects:  80% (8/10)\u001b[K\rremote: Counting objects:  90% (9/10)\u001b[K\rremote: Counting objects: 100% (10/10)\u001b[K\rremote: Counting objects: 100% (10/10), done.\u001b[K\n",
            "remote: Compressing objects:  20% (1/5)\u001b[K\rremote: Compressing objects:  40% (2/5)\u001b[K\rremote: Compressing objects:  60% (3/5)\u001b[K\rremote: Compressing objects:  80% (4/5)\u001b[K\rremote: Compressing objects: 100% (5/5)\u001b[K\rremote: Compressing objects: 100% (5/5), done.\u001b[K\n",
            "remote: Total 10 (delta 3), reused 8 (delta 3), pack-reused 0\u001b[K\n",
            "Unpacking objects:  10% (1/10)   \rUnpacking objects:  20% (2/10)   \rUnpacking objects:  30% (3/10)   \rUnpacking objects:  40% (4/10)   \rUnpacking objects:  50% (5/10)   \rUnpacking objects:  60% (6/10)   \rUnpacking objects:  70% (7/10)   \rUnpacking objects:  80% (8/10)   \rUnpacking objects:  90% (9/10)   \rUnpacking objects: 100% (10/10)   \rUnpacking objects: 100% (10/10), done.\n",
            "From https://github.com/yonedahayato/stock_strategy\n",
            "   f879837..873a594  feature/49 -> origin/feature/49\n",
            "First, rewinding head to replay your work on top of it...\n",
            "Fast-forwarded feature/49 to refs/remotes/origin/feature/49.\n"
          ],
          "name": "stdout"
        }
      ]
    },
    {
      "cell_type": "code",
      "metadata": {
        "id": "g93CTSBU5vWw",
        "colab_type": "code",
        "colab": {
          "base_uri": "https://localhost:8080/",
          "height": 34
        },
        "outputId": "44e96bb8-8820-4197-c6f1-fb10a0655696"
      },
      "source": [
        "%cd Numerai/"
      ],
      "execution_count": 3,
      "outputs": [
        {
          "output_type": "stream",
          "text": [
            "/content/stock_strategy/Numerai\n"
          ],
          "name": "stdout"
        }
      ]
    },
    {
      "cell_type": "code",
      "metadata": {
        "id": "aah2MqgB53Ho",
        "colab_type": "code",
        "colab": {
          "base_uri": "https://localhost:8080/",
          "height": 445
        },
        "outputId": "19bfaf73-09ec-4a56-8e68-0010c8f5e934"
      },
      "source": [
        "!pip install --upgrade pip\n",
        "!pip install -r requirements.txt"
      ],
      "execution_count": 4,
      "outputs": [
        {
          "output_type": "stream",
          "text": [
            "Collecting pip\n",
            "\u001b[?25l  Downloading https://files.pythonhosted.org/packages/43/84/23ed6a1796480a6f1a2d38f2802901d078266bda38388954d01d3f2e821d/pip-20.1.1-py2.py3-none-any.whl (1.5MB)\n",
            "\u001b[K     |████████████████████████████████| 1.5MB 2.8MB/s \n",
            "\u001b[?25hInstalling collected packages: pip\n",
            "  Found existing installation: pip 19.3.1\n",
            "    Uninstalling pip-19.3.1:\n",
            "      Successfully uninstalled pip-19.3.1\n",
            "Successfully installed pip-20.1.1\n",
            "Collecting numerapi\n",
            "  Downloading numerapi-2.3.1-py3-none-any.whl (24 kB)\n",
            "Requirement already satisfied: pandas in /usr/local/lib/python3.6/dist-packages (from -r requirements.txt (line 2)) (1.0.5)\n",
            "Requirement already satisfied: click>=7.0 in /usr/local/lib/python3.6/dist-packages (from numerapi->-r requirements.txt (line 1)) (7.1.2)\n",
            "Requirement already satisfied: tqdm>=4.29.1 in /usr/local/lib/python3.6/dist-packages (from numerapi->-r requirements.txt (line 1)) (4.41.1)\n",
            "Requirement already satisfied: pytz in /usr/local/lib/python3.6/dist-packages (from numerapi->-r requirements.txt (line 1)) (2018.9)\n",
            "Requirement already satisfied: requests in /usr/local/lib/python3.6/dist-packages (from numerapi->-r requirements.txt (line 1)) (2.23.0)\n",
            "Requirement already satisfied: python-dateutil in /usr/local/lib/python3.6/dist-packages (from numerapi->-r requirements.txt (line 1)) (2.8.1)\n",
            "Requirement already satisfied: numpy>=1.13.3 in /usr/local/lib/python3.6/dist-packages (from pandas->-r requirements.txt (line 2)) (1.18.5)\n",
            "Requirement already satisfied: certifi>=2017.4.17 in /usr/local/lib/python3.6/dist-packages (from requests->numerapi->-r requirements.txt (line 1)) (2020.4.5.2)\n",
            "Requirement already satisfied: chardet<4,>=3.0.2 in /usr/local/lib/python3.6/dist-packages (from requests->numerapi->-r requirements.txt (line 1)) (3.0.4)\n",
            "Requirement already satisfied: idna<3,>=2.5 in /usr/local/lib/python3.6/dist-packages (from requests->numerapi->-r requirements.txt (line 1)) (2.9)\n",
            "Requirement already satisfied: urllib3!=1.25.0,!=1.25.1,<1.26,>=1.21.1 in /usr/local/lib/python3.6/dist-packages (from requests->numerapi->-r requirements.txt (line 1)) (1.24.3)\n",
            "Requirement already satisfied: six>=1.5 in /usr/local/lib/python3.6/dist-packages (from python-dateutil->numerapi->-r requirements.txt (line 1)) (1.12.0)\n",
            "Installing collected packages: numerapi\n",
            "Successfully installed numerapi-2.3.1\n"
          ],
          "name": "stdout"
        }
      ]
    },
    {
      "cell_type": "code",
      "metadata": {
        "id": "E_0klTaw6OBi",
        "colab_type": "code",
        "colab": {}
      },
      "source": [
        "import numerapi\n",
        "import os\n",
        "import pandas as pd"
      ],
      "execution_count": 5,
      "outputs": []
    },
    {
      "cell_type": "code",
      "metadata": {
        "id": "udelYhYl61IC",
        "colab_type": "code",
        "colab": {
          "base_uri": "https://localhost:8080/",
          "height": 564
        },
        "outputId": "2c0f0fa2-da26-4289-87a9-2d7971f8e2d5"
      },
      "source": [
        "from datasets import Datasets\n",
        "datasets = Datasets()\n",
        "datasets.download()"
      ],
      "execution_count": 6,
      "outputs": [
        {
          "output_type": "stream",
          "text": [
            "./dataset/numerai_dataset_217.zip: 100%|█████████▉| 377M/378M [00:10<00:00, 42.2MB/s]2020-06-24 06:57:04,320 INFO numerapi.base_api: unzipping file...\n",
            "./dataset/numerai_dataset_217.zip: 378MB [00:29, 42.2MB/s]                           "
          ],
          "name": "stderr"
        },
        {
          "output_type": "execute_result",
          "data": {
            "text/plain": [
              "['__class__',\n",
              " '__delattr__',\n",
              " '__dict__',\n",
              " '__dir__',\n",
              " '__doc__',\n",
              " '__eq__',\n",
              " '__format__',\n",
              " '__ge__',\n",
              " '__getattribute__',\n",
              " '__gt__',\n",
              " '__hash__',\n",
              " '__init__',\n",
              " '__init_subclass__',\n",
              " '__le__',\n",
              " '__lt__',\n",
              " '__module__',\n",
              " '__ne__',\n",
              " '__new__',\n",
              " '__reduce__',\n",
              " '__reduce_ex__',\n",
              " '__repr__',\n",
              " '__setattr__',\n",
              " '__sizeof__',\n",
              " '__str__',\n",
              " '__subclasshook__',\n",
              " '__weakref__',\n",
              " 'dir_',\n",
              " 'download',\n",
              " 'load',\n",
              " 'napi']"
            ]
          },
          "metadata": {
            "tags": []
          },
          "execution_count": 6
        }
      ]
    },
    {
      "cell_type": "code",
      "metadata": {
        "id": "OniZwDP_9O9E",
        "colab_type": "code",
        "colab": {
          "base_uri": "https://localhost:8080/",
          "height": 34
        },
        "outputId": "ee118da8-6ff7-42fd-a4c4-258aacc3dee0"
      },
      "source": [
        "data_df = datasets.load()"
      ],
      "execution_count": 7,
      "outputs": [
        {
          "output_type": "stream",
          "text": [
            "./dataset/numerai_dataset_217/numerai_training_data.csv\n"
          ],
          "name": "stdout"
        }
      ]
    },
    {
      "cell_type": "code",
      "metadata": {
        "id": "TBc8FIBa-xs2",
        "colab_type": "code",
        "colab": {
          "base_uri": "https://localhost:8080/",
          "height": 204
        },
        "outputId": "539c5d5e-18cb-423e-9f80-1bc1b8724558"
      },
      "source": [
        "print(data_df.shape)\n",
        "print(data_df.columns)"
      ],
      "execution_count": 8,
      "outputs": [
        {
          "output_type": "stream",
          "text": [
            "(501808, 314)\n",
            "Index(['id', 'era', 'data_type', 'feature_intelligence1',\n",
            "       'feature_intelligence2', 'feature_intelligence3',\n",
            "       'feature_intelligence4', 'feature_intelligence5',\n",
            "       'feature_intelligence6', 'feature_intelligence7',\n",
            "       ...\n",
            "       'feature_wisdom38', 'feature_wisdom39', 'feature_wisdom40',\n",
            "       'feature_wisdom41', 'feature_wisdom42', 'feature_wisdom43',\n",
            "       'feature_wisdom44', 'feature_wisdom45', 'feature_wisdom46',\n",
            "       'target_kazutsugi'],\n",
            "      dtype='object', length=314)\n"
          ],
          "name": "stdout"
        }
      ]
    }
  ]
}