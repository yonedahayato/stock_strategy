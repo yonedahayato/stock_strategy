{
  "nbformat": 4,
  "nbformat_minor": 0,
  "metadata": {
    "colab": {
      "name": "my_Numerai.ipynb",
      "provenance": [],
      "collapsed_sections": [],
      "authorship_tag": "ABX9TyPrFj2eqrsoxd+irN7PKAmj",
      "include_colab_link": true
    },
    "kernelspec": {
      "name": "python3",
      "display_name": "Python 3"
    },
    "accelerator": "GPU"
  },
  "cells": [
    {
      "cell_type": "markdown",
      "metadata": {
        "id": "view-in-github",
        "colab_type": "text"
      },
      "source": [
        "<a href=\"https://colab.research.google.com/github/yonedahayato/stock_strategy/blob/feature%2F49/Numerai/my_Numerai.ipynb\" target=\"_parent\"><img src=\"https://colab.research.google.com/assets/colab-badge.svg\" alt=\"Open In Colab\"/></a>"
      ]
    },
    {
      "cell_type": "code",
      "metadata": {
        "id": "ZLYKtFse4E3r",
        "colab_type": "code",
        "colab": {
          "base_uri": "https://localhost:8080/",
          "height": 136
        },
        "outputId": "bd302bd0-9648-4fac-8a06-318f4c674c04"
      },
      "source": [
        "!git clone https://github.com/yonedahayato/stock_strategy.git"
      ],
      "execution_count": 1,
      "outputs": [
        {
          "output_type": "stream",
          "text": [
            "Cloning into 'stock_strategy'...\n",
            "remote: Enumerating objects: 167, done.\u001b[K\n",
            "remote: Counting objects:   0% (1/167)\u001b[K\rremote: Counting objects:   1% (2/167)\u001b[K\rremote: Counting objects:   2% (4/167)\u001b[K\rremote: Counting objects:   3% (6/167)\u001b[K\rremote: Counting objects:   4% (7/167)\u001b[K\rremote: Counting objects:   5% (9/167)\u001b[K\rremote: Counting objects:   6% (11/167)\u001b[K\rremote: Counting objects:   7% (12/167)\u001b[K\rremote: Counting objects:   8% (14/167)\u001b[K\rremote: Counting objects:   9% (16/167)\u001b[K\rremote: Counting objects:  10% (17/167)\u001b[K\rremote: Counting objects:  11% (19/167)\u001b[K\rremote: Counting objects:  12% (21/167)\u001b[K\rremote: Counting objects:  13% (22/167)\u001b[K\rremote: Counting objects:  14% (24/167)\u001b[K\rremote: Counting objects:  15% (26/167)\u001b[K\rremote: Counting objects:  16% (27/167)\u001b[K\rremote: Counting objects:  17% (29/167)\u001b[K\rremote: Counting objects:  18% (31/167)\u001b[K\rremote: Counting objects:  19% (32/167)\u001b[K\rremote: Counting objects:  20% (34/167)\u001b[K\rremote: Counting objects:  21% (36/167)\u001b[K\rremote: Counting objects:  22% (37/167)\u001b[K\rremote: Counting objects:  23% (39/167)\u001b[K\rremote: Counting objects:  24% (41/167)\u001b[K\rremote: Counting objects:  25% (42/167)\u001b[K\rremote: Counting objects:  26% (44/167)\u001b[K\rremote: Counting objects:  27% (46/167)\u001b[K\rremote: Counting objects:  28% (47/167)\u001b[K\rremote: Counting objects:  29% (49/167)\u001b[K\rremote: Counting objects:  30% (51/167)\u001b[K\rremote: Counting objects:  31% (52/167)\u001b[K\rremote: Counting objects:  32% (54/167)\u001b[K\rremote: Counting objects:  33% (56/167)\u001b[K\rremote: Counting objects:  34% (57/167)\u001b[K\rremote: Counting objects:  35% (59/167)\u001b[K\rremote: Counting objects:  36% (61/167)\u001b[K\rremote: Counting objects:  37% (62/167)\u001b[K\rremote: Counting objects:  38% (64/167)\u001b[K\rremote: Counting objects:  39% (66/167)\u001b[K\rremote: Counting objects:  40% (67/167)\u001b[K\rremote: Counting objects:  41% (69/167)\u001b[K\rremote: Counting objects:  42% (71/167)\u001b[K\rremote: Counting objects:  43% (72/167)\u001b[K\rremote: Counting objects:  44% (74/167)\u001b[K\rremote: Counting objects:  45% (76/167)\u001b[K\rremote: Counting objects:  46% (77/167)\u001b[K\rremote: Counting objects:  47% (79/167)\u001b[K\rremote: Counting objects:  48% (81/167)\u001b[K\rremote: Counting objects:  49% (82/167)\u001b[K\rremote: Counting objects:  50% (84/167)\u001b[K\rremote: Counting objects:  51% (86/167)\u001b[K\rremote: Counting objects:  52% (87/167)\u001b[K\rremote: Counting objects:  53% (89/167)\u001b[K\rremote: Counting objects:  54% (91/167)\u001b[K\rremote: Counting objects:  55% (92/167)\u001b[K\rremote: Counting objects:  56% (94/167)\u001b[K\rremote: Counting objects:  57% (96/167)\u001b[K\rremote: Counting objects:  58% (97/167)\u001b[K\rremote: Counting objects:  59% (99/167)\u001b[K\rremote: Counting objects:  60% (101/167)\u001b[K\rremote: Counting objects:  61% (102/167)\u001b[K\rremote: Counting objects:  62% (104/167)\u001b[K\rremote: Counting objects:  63% (106/167)\u001b[K\rremote: Counting objects:  64% (107/167)\u001b[K\rremote: Counting objects:  65% (109/167)\u001b[K\rremote: Counting objects:  66% (111/167)\u001b[K\rremote: Counting objects:  67% (112/167)\u001b[K\rremote: Counting objects:  68% (114/167)\u001b[K\rremote: Counting objects:  69% (116/167)\u001b[K\rremote: Counting objects:  70% (117/167)\u001b[K\rremote: Counting objects:  71% (119/167)\u001b[K\rremote: Counting objects:  72% (121/167)\u001b[K\rremote: Counting objects:  73% (122/167)\u001b[K\rremote: Counting objects:  74% (124/167)\u001b[K\rremote: Counting objects:  75% (126/167)\u001b[K\rremote: Counting objects:  76% (127/167)\u001b[K\rremote: Counting objects:  77% (129/167)\u001b[K\rremote: Counting objects:  78% (131/167)\u001b[K\rremote: Counting objects:  79% (132/167)\u001b[K\rremote: Counting objects:  80% (134/167)\u001b[K\rremote: Counting objects:  81% (136/167)\u001b[K\rremote: Counting objects:  82% (137/167)\u001b[K\rremote: Counting objects:  83% (139/167)\u001b[K\rremote: Counting objects:  84% (141/167)\u001b[K\rremote: Counting objects:  85% (142/167)\u001b[K\rremote: Counting objects:  86% (144/167)\u001b[K\rremote: Counting objects:  87% (146/167)\u001b[K\rremote: Counting objects:  88% (147/167)\u001b[K\rremote: Counting objects:  89% (149/167)\u001b[K\rremote: Counting objects:  90% (151/167)\u001b[K\rremote: Counting objects:  91% (152/167)\u001b[K\rremote: Counting objects:  92% (154/167)\u001b[K\rremote: Counting objects:  93% (156/167)\u001b[K\rremote: Counting objects:  94% (157/167)\u001b[K\rremote: Counting objects:  95% (159/167)\u001b[K\rremote: Counting objects:  96% (161/167)\u001b[K\rremote: Counting objects:  97% (162/167)\u001b[K\rremote: Counting objects:  98% (164/167)\u001b[K\rremote: Counting objects:  99% (166/167)\u001b[K\rremote: Counting objects: 100% (167/167)\u001b[K\rremote: Counting objects: 100% (167/167), done.\u001b[K\n",
            "remote: Compressing objects:   0% (1/103)\u001b[K\rremote: Compressing objects:   1% (2/103)\u001b[K\rremote: Compressing objects:   2% (3/103)\u001b[K\rremote: Compressing objects:   3% (4/103)\u001b[K\rremote: Compressing objects:   4% (5/103)\u001b[K\rremote: Compressing objects:   5% (6/103)\u001b[K\rremote: Compressing objects:   6% (7/103)\u001b[K\rremote: Compressing objects:   7% (8/103)\u001b[K\rremote: Compressing objects:   8% (9/103)\u001b[K\rremote: Compressing objects:   9% (10/103)\u001b[K\rremote: Compressing objects:  10% (11/103)\u001b[K\rremote: Compressing objects:  11% (12/103)\u001b[K\rremote: Compressing objects:  12% (13/103)\u001b[K\rremote: Compressing objects:  13% (14/103)\u001b[K\rremote: Compressing objects:  14% (15/103)\u001b[K\rremote: Compressing objects:  15% (16/103)\u001b[K\rremote: Compressing objects:  16% (17/103)\u001b[K\rremote: Compressing objects:  17% (18/103)\u001b[K\rremote: Compressing objects:  18% (19/103)\u001b[K\rremote: Compressing objects:  19% (20/103)\u001b[K\rremote: Compressing objects:  20% (21/103)\u001b[K\rremote: Compressing objects:  21% (22/103)\u001b[K\rremote: Compressing objects:  22% (23/103)\u001b[K\rremote: Compressing objects:  23% (24/103)\u001b[K\rremote: Compressing objects:  24% (25/103)\u001b[K\rremote: Compressing objects:  25% (26/103)\u001b[K\rremote: Compressing objects:  26% (27/103)\u001b[K\rremote: Compressing objects:  27% (28/103)\u001b[K\rremote: Compressing objects:  28% (29/103)\u001b[K\rremote: Compressing objects:  29% (30/103)\u001b[K\rremote: Compressing objects:  30% (31/103)\u001b[K\rremote: Compressing objects:  31% (32/103)\u001b[K\rremote: Compressing objects:  32% (33/103)\u001b[K\rremote: Compressing objects:  33% (34/103)\u001b[K\rremote: Compressing objects:  34% (36/103)\u001b[K\rremote: Compressing objects:  35% (37/103)\u001b[K\rremote: Compressing objects:  36% (38/103)\u001b[K\rremote: Compressing objects:  37% (39/103)\u001b[K\rremote: Compressing objects:  38% (40/103)\u001b[K\rremote: Compressing objects:  39% (41/103)\u001b[K\rremote: Compressing objects:  40% (42/103)\u001b[K\rremote: Compressing objects:  41% (43/103)\u001b[K\rremote: Compressing objects:  42% (44/103)\u001b[K\rremote: Compressing objects:  43% (45/103)\u001b[K\rremote: Compressing objects:  44% (46/103)\u001b[K\rremote: Compressing objects:  45% (47/103)\u001b[K\rremote: Compressing objects:  46% (48/103)\u001b[K\rremote: Compressing objects:  47% (49/103)\u001b[K\rremote: Compressing objects:  48% (50/103)\u001b[K\rremote: Compressing objects:  49% (51/103)\u001b[K\rremote: Compressing objects:  50% (52/103)\u001b[K\rremote: Compressing objects:  51% (53/103)\u001b[K\rremote: Compressing objects:  52% (54/103)\u001b[K\rremote: Compressing objects:  53% (55/103)\u001b[K\rremote: Compressing objects:  54% (56/103)\u001b[K\rremote: Compressing objects:  55% (57/103)\u001b[K\rremote: Compressing objects:  56% (58/103)\u001b[K\rremote: Compressing objects:  57% (59/103)\u001b[K\rremote: Compressing objects:  58% (60/103)\u001b[K\rremote: Compressing objects:  59% (61/103)\u001b[K\rremote: Compressing objects:  60% (62/103)\u001b[K\rremote: Compressing objects:  61% (63/103)\u001b[K\rremote: Compressing objects:  62% (64/103)\u001b[K\rremote: Compressing objects:  63% (65/103)\u001b[K\rremote: Compressing objects:  64% (66/103)\u001b[K\rremote: Compressing objects:  65% (67/103)\u001b[K\rremote: Compressing objects:  66% (68/103)\u001b[K\rremote: Compressing objects:  67% (70/103)\u001b[K\rremote: Compressing objects:  68% (71/103)\u001b[K\rremote: Compressing objects:  69% (72/103)\u001b[K\rremote: Compressing objects:  70% (73/103)\u001b[K\rremote: Compressing objects:  71% (74/103)\u001b[K\rremote: Compressing objects:  72% (75/103)\u001b[K\rremote: Compressing objects:  73% (76/103)\u001b[K\rremote: Compressing objects:  74% (77/103)\u001b[K\rremote: Compressing objects:  75% (78/103)\u001b[K\rremote: Compressing objects:  76% (79/103)\u001b[K\rremote: Compressing objects:  77% (80/103)\u001b[K\rremote: Compressing objects:  78% (81/103)\u001b[K\rremote: Compressing objects:  79% (82/103)\u001b[K\rremote: Compressing objects:  80% (83/103)\u001b[K\rremote: Compressing objects:  81% (84/103)\u001b[K\rremote: Compressing objects:  82% (85/103)\u001b[K\rremote: Compressing objects:  83% (86/103)\u001b[K\rremote: Compressing objects:  84% (87/103)\u001b[K\rremote: Compressing objects:  85% (88/103)\u001b[K\rremote: Compressing objects:  86% (89/103)\u001b[K\rremote: Compressing objects:  87% (90/103)\u001b[K\rremote: Compressing objects:  88% (91/103)\u001b[K\rremote: Compressing objects:  89% (92/103)\u001b[K\rremote: Compressing objects:  90% (93/103)\u001b[K\rremote: Compressing objects:  91% (94/103)\u001b[K\rremote: Compressing objects:  92% (95/103)\u001b[K\rremote: Compressing objects:  93% (96/103)\u001b[K\rremote: Compressing objects:  94% (97/103)\u001b[K\rremote: Compressing objects:  95% (98/103)\u001b[K\rremote: Compressing objects:  96% (99/103)\u001b[K\rremote: Compressing objects:  97% (100/103)\u001b[K\rremote: Compressing objects:  98% (101/103)\u001b[K\rremote: Compressing objects:  99% (102/103)\u001b[K\rremote: Compressing objects: 100% (103/103)\u001b[K\rremote: Compressing objects: 100% (103/103), done.\u001b[K\n",
            "Receiving objects:   0% (1/1911)   \rReceiving objects:   1% (20/1911)   \rReceiving objects:   2% (39/1911)   \rReceiving objects:   3% (58/1911)   \rReceiving objects:   4% (77/1911)   \rReceiving objects:   5% (96/1911)   \rReceiving objects:   6% (115/1911)   \rReceiving objects:   7% (134/1911)   \rReceiving objects:   8% (153/1911)   \rReceiving objects:   9% (172/1911)   \rReceiving objects:  10% (192/1911)   \rReceiving objects:  11% (211/1911)   \rReceiving objects:  12% (230/1911)   \rReceiving objects:  13% (249/1911)   \rReceiving objects:  14% (268/1911)   \rReceiving objects:  15% (287/1911)   \rReceiving objects:  16% (306/1911)   \rReceiving objects:  17% (325/1911)   \rReceiving objects:  18% (344/1911)   \rReceiving objects:  19% (364/1911)   \rReceiving objects:  20% (383/1911)   \rReceiving objects:  21% (402/1911)   \rReceiving objects:  22% (421/1911)   \rReceiving objects:  23% (440/1911)   \rReceiving objects:  24% (459/1911)   \rReceiving objects:  25% (478/1911)   \rReceiving objects:  26% (497/1911)   \rReceiving objects:  27% (516/1911)   \rReceiving objects:  28% (536/1911)   \rReceiving objects:  29% (555/1911)   \rReceiving objects:  30% (574/1911)   \rReceiving objects:  31% (593/1911)   \rReceiving objects:  32% (612/1911)   \rReceiving objects:  33% (631/1911)   \rReceiving objects:  34% (650/1911)   \rReceiving objects:  35% (669/1911)   \rReceiving objects:  36% (688/1911)   \rReceiving objects:  37% (708/1911)   \rReceiving objects:  38% (727/1911)   \rReceiving objects:  39% (746/1911)   \rReceiving objects:  40% (765/1911)   \rReceiving objects:  41% (784/1911)   \rReceiving objects:  42% (803/1911)   \rReceiving objects:  43% (822/1911)   \rReceiving objects:  44% (841/1911)   \rReceiving objects:  45% (860/1911)   \rReceiving objects:  46% (880/1911)   \rReceiving objects:  47% (899/1911)   \rReceiving objects:  48% (918/1911)   \rReceiving objects:  49% (937/1911)   \rReceiving objects:  50% (956/1911)   \rReceiving objects:  51% (975/1911)   \rReceiving objects:  52% (994/1911)   \rReceiving objects:  53% (1013/1911)   \rReceiving objects:  54% (1032/1911)   \rReceiving objects:  55% (1052/1911)   \rReceiving objects:  56% (1071/1911)   \rReceiving objects:  57% (1090/1911)   \rReceiving objects:  58% (1109/1911)   \rReceiving objects:  59% (1128/1911)   \rReceiving objects:  60% (1147/1911)   \rReceiving objects:  61% (1166/1911)   \rReceiving objects:  62% (1185/1911)   \rReceiving objects:  63% (1204/1911)   \rReceiving objects:  64% (1224/1911)   \rReceiving objects:  65% (1243/1911)   \rReceiving objects:  66% (1262/1911)   \rReceiving objects:  67% (1281/1911)   \rReceiving objects:  68% (1300/1911)   \rReceiving objects:  69% (1319/1911)   \rReceiving objects:  70% (1338/1911)   \rReceiving objects:  71% (1357/1911)   \rReceiving objects:  72% (1376/1911)   \rReceiving objects:  73% (1396/1911)   \rReceiving objects:  74% (1415/1911)   \rReceiving objects:  75% (1434/1911)   \rReceiving objects:  76% (1453/1911)   \rReceiving objects:  77% (1472/1911)   \rReceiving objects:  78% (1491/1911)   \rReceiving objects:  79% (1510/1911)   \rReceiving objects:  80% (1529/1911)   \rReceiving objects:  81% (1548/1911)   \rReceiving objects:  82% (1568/1911)   \rReceiving objects:  83% (1587/1911)   \rReceiving objects:  84% (1606/1911)   \rReceiving objects:  85% (1625/1911)   \rReceiving objects:  86% (1644/1911)   \rReceiving objects:  87% (1663/1911)   \rReceiving objects:  88% (1682/1911)   \rReceiving objects:  89% (1701/1911)   \rReceiving objects:  90% (1720/1911)   \rReceiving objects:  91% (1740/1911)   \rReceiving objects:  92% (1759/1911)   \rReceiving objects:  93% (1778/1911)   \rremote: Total 1911 (delta 82), reused 119 (delta 48), pack-reused 1744\u001b[K\n",
            "Receiving objects:  94% (1797/1911)   \rReceiving objects:  95% (1816/1911)   \rReceiving objects:  96% (1835/1911)   \rReceiving objects:  97% (1854/1911)   \rReceiving objects:  98% (1873/1911)   \rReceiving objects:  99% (1892/1911)   \rReceiving objects: 100% (1911/1911)   \rReceiving objects: 100% (1911/1911), 1.94 MiB | 4.14 MiB/s, done.\n",
            "Resolving deltas:   0% (0/1162)   \rResolving deltas:   1% (18/1162)   \rResolving deltas:   2% (27/1162)   \rResolving deltas:   3% (36/1162)   \rResolving deltas:  25% (291/1162)   \rResolving deltas:  26% (304/1162)   \rResolving deltas:  27% (316/1162)   \rResolving deltas:  29% (344/1162)   \rResolving deltas:  37% (436/1162)   \rResolving deltas:  38% (442/1162)   \rResolving deltas:  39% (454/1162)   \rResolving deltas:  42% (493/1162)   \rResolving deltas:  46% (544/1162)   \rResolving deltas:  47% (551/1162)   \rResolving deltas:  48% (563/1162)   \rResolving deltas:  49% (573/1162)   \rResolving deltas:  51% (597/1162)   \rResolving deltas:  52% (612/1162)   \rResolving deltas:  53% (622/1162)   \rResolving deltas:  54% (634/1162)   \rResolving deltas:  56% (654/1162)   \rResolving deltas:  57% (663/1162)   \rResolving deltas:  59% (687/1162)   \rResolving deltas:  63% (739/1162)   \rResolving deltas:  65% (758/1162)   \rResolving deltas:  67% (789/1162)   \rResolving deltas:  68% (793/1162)   \rResolving deltas:  75% (877/1162)   \rResolving deltas:  76% (885/1162)   \rResolving deltas:  78% (907/1162)   \rResolving deltas:  79% (921/1162)   \rResolving deltas:  82% (962/1162)   \rResolving deltas:  83% (972/1162)   \rResolving deltas:  84% (977/1162)   \rResolving deltas:  85% (988/1162)   \rResolving deltas:  87% (1022/1162)   \rResolving deltas:  88% (1024/1162)   \rResolving deltas:  94% (1094/1162)   \rResolving deltas:  95% (1114/1162)   \rResolving deltas:  96% (1122/1162)   \rResolving deltas:  97% (1130/1162)   \rResolving deltas:  98% (1140/1162)   \rResolving deltas:  99% (1152/1162)   \rResolving deltas: 100% (1162/1162)   \rResolving deltas: 100% (1162/1162), done.\n"
          ],
          "name": "stdout"
        }
      ]
    },
    {
      "cell_type": "code",
      "metadata": {
        "id": "oBA0BmHd4xP2",
        "colab_type": "code",
        "colab": {
          "base_uri": "https://localhost:8080/",
          "height": 119
        },
        "outputId": "5c336666-5df7-4966-f4fd-ffc53bb83c30"
      },
      "source": [
        "%cd stock_strategy/\n",
        "!git checkout feature/49\n",
        "!git fetch\n",
        "!git rebase\n",
        "%cd Numerai/"
      ],
      "execution_count": 2,
      "outputs": [
        {
          "output_type": "stream",
          "text": [
            "/content/stock_strategy\n",
            "Branch 'feature/49' set up to track remote branch 'feature/49' from 'origin'.\n",
            "Switched to a new branch 'feature/49'\n",
            "First, rewinding head to replay your work on top of it...\n",
            "Fast-forwarded feature/49 to refs/remotes/origin/feature/49.\n",
            "/content/stock_strategy/Numerai\n"
          ],
          "name": "stdout"
        }
      ]
    },
    {
      "cell_type": "code",
      "metadata": {
        "id": "aah2MqgB53Ho",
        "colab_type": "code",
        "colab": {
          "base_uri": "https://localhost:8080/",
          "height": 459
        },
        "outputId": "43f6936f-949e-4cbe-dba7-6d5f0df1f3d6"
      },
      "source": [
        "!pip install --upgrade pip\n",
        "!pip install -r requirements.txt"
      ],
      "execution_count": 3,
      "outputs": [
        {
          "output_type": "stream",
          "text": [
            "Collecting pip\n",
            "\u001b[?25l  Downloading https://files.pythonhosted.org/packages/43/84/23ed6a1796480a6f1a2d38f2802901d078266bda38388954d01d3f2e821d/pip-20.1.1-py2.py3-none-any.whl (1.5MB)\n",
            "\r\u001b[K     |▏                               | 10kB 20.0MB/s eta 0:00:01\r\u001b[K     |▍                               | 20kB 4.7MB/s eta 0:00:01\r\u001b[K     |▋                               | 30kB 5.4MB/s eta 0:00:01\r\u001b[K     |▉                               | 40kB 5.8MB/s eta 0:00:01\r\u001b[K     |█                               | 51kB 5.3MB/s eta 0:00:01\r\u001b[K     |█▎                              | 61kB 5.8MB/s eta 0:00:01\r\u001b[K     |█▌                              | 71kB 6.2MB/s eta 0:00:01\r\u001b[K     |█▊                              | 81kB 6.7MB/s eta 0:00:01\r\u001b[K     |██                              | 92kB 7.1MB/s eta 0:00:01\r\u001b[K     |██▏                             | 102kB 7.3MB/s eta 0:00:01\r\u001b[K     |██▍                             | 112kB 7.3MB/s eta 0:00:01\r\u001b[K     |██▋                             | 122kB 7.3MB/s eta 0:00:01\r\u001b[K     |██▉                             | 133kB 7.3MB/s eta 0:00:01\r\u001b[K     |███                             | 143kB 7.3MB/s eta 0:00:01\r\u001b[K     |███▎                            | 153kB 7.3MB/s eta 0:00:01\r\u001b[K     |███▌                            | 163kB 7.3MB/s eta 0:00:01\r\u001b[K     |███▊                            | 174kB 7.3MB/s eta 0:00:01\r\u001b[K     |████                            | 184kB 7.3MB/s eta 0:00:01\r\u001b[K     |████▏                           | 194kB 7.3MB/s eta 0:00:01\r\u001b[K     |████▍                           | 204kB 7.3MB/s eta 0:00:01\r\u001b[K     |████▋                           | 215kB 7.3MB/s eta 0:00:01\r\u001b[K     |████▉                           | 225kB 7.3MB/s eta 0:00:01\r\u001b[K     |█████                           | 235kB 7.3MB/s eta 0:00:01\r\u001b[K     |█████▎                          | 245kB 7.3MB/s eta 0:00:01\r\u001b[K     |█████▌                          | 256kB 7.3MB/s eta 0:00:01\r\u001b[K     |█████▊                          | 266kB 7.3MB/s eta 0:00:01\r\u001b[K     |██████                          | 276kB 7.3MB/s eta 0:00:01\r\u001b[K     |██████▏                         | 286kB 7.3MB/s eta 0:00:01\r\u001b[K     |██████▍                         | 296kB 7.3MB/s eta 0:00:01\r\u001b[K     |██████▋                         | 307kB 7.3MB/s eta 0:00:01\r\u001b[K     |██████▉                         | 317kB 7.3MB/s eta 0:00:01\r\u001b[K     |███████                         | 327kB 7.3MB/s eta 0:00:01\r\u001b[K     |███████▎                        | 337kB 7.3MB/s eta 0:00:01\r\u001b[K     |███████▌                        | 348kB 7.3MB/s eta 0:00:01\r\u001b[K     |███████▊                        | 358kB 7.3MB/s eta 0:00:01\r\u001b[K     |████████                        | 368kB 7.3MB/s eta 0:00:01\r\u001b[K     |████████▏                       | 378kB 7.3MB/s eta 0:00:01\r\u001b[K     |████████▍                       | 389kB 7.3MB/s eta 0:00:01\r\u001b[K     |████████▋                       | 399kB 7.3MB/s eta 0:00:01\r\u001b[K     |████████▉                       | 409kB 7.3MB/s eta 0:00:01\r\u001b[K     |█████████                       | 419kB 7.3MB/s eta 0:00:01\r\u001b[K     |█████████▎                      | 430kB 7.3MB/s eta 0:00:01\r\u001b[K     |█████████▌                      | 440kB 7.3MB/s eta 0:00:01\r\u001b[K     |█████████▊                      | 450kB 7.3MB/s eta 0:00:01\r\u001b[K     |██████████                      | 460kB 7.3MB/s eta 0:00:01\r\u001b[K     |██████████▏                     | 471kB 7.3MB/s eta 0:00:01\r\u001b[K     |██████████▎                     | 481kB 7.3MB/s eta 0:00:01\r\u001b[K     |██████████▌                     | 491kB 7.3MB/s eta 0:00:01\r\u001b[K     |██████████▊                     | 501kB 7.3MB/s eta 0:00:01\r\u001b[K     |███████████                     | 512kB 7.3MB/s eta 0:00:01\r\u001b[K     |███████████▏                    | 522kB 7.3MB/s eta 0:00:01\r\u001b[K     |███████████▍                    | 532kB 7.3MB/s eta 0:00:01\r\u001b[K     |███████████▋                    | 542kB 7.3MB/s eta 0:00:01\r\u001b[K     |███████████▉                    | 552kB 7.3MB/s eta 0:00:01\r\u001b[K     |████████████                    | 563kB 7.3MB/s eta 0:00:01\r\u001b[K     |████████████▎                   | 573kB 7.3MB/s eta 0:00:01\r\u001b[K     |████████████▌                   | 583kB 7.3MB/s eta 0:00:01\r\u001b[K     |████████████▊                   | 593kB 7.3MB/s eta 0:00:01\r\u001b[K     |█████████████                   | 604kB 7.3MB/s eta 0:00:01\r\u001b[K     |█████████████▏                  | 614kB 7.3MB/s eta 0:00:01\r\u001b[K     |█████████████▍                  | 624kB 7.3MB/s eta 0:00:01\r\u001b[K     |█████████████▋                  | 634kB 7.3MB/s eta 0:00:01\r\u001b[K     |█████████████▉                  | 645kB 7.3MB/s eta 0:00:01\r\u001b[K     |██████████████                  | 655kB 7.3MB/s eta 0:00:01\r\u001b[K     |██████████████▎                 | 665kB 7.3MB/s eta 0:00:01\r\u001b[K     |██████████████▌                 | 675kB 7.3MB/s eta 0:00:01\r\u001b[K     |██████████████▊                 | 686kB 7.3MB/s eta 0:00:01\r\u001b[K     |███████████████                 | 696kB 7.3MB/s eta 0:00:01\r\u001b[K     |███████████████▏                | 706kB 7.3MB/s eta 0:00:01\r\u001b[K     |███████████████▍                | 716kB 7.3MB/s eta 0:00:01\r\u001b[K     |███████████████▋                | 727kB 7.3MB/s eta 0:00:01\r\u001b[K     |███████████████▉                | 737kB 7.3MB/s eta 0:00:01\r\u001b[K     |████████████████                | 747kB 7.3MB/s eta 0:00:01\r\u001b[K     |████████████████▎               | 757kB 7.3MB/s eta 0:00:01\r\u001b[K     |████████████████▌               | 768kB 7.3MB/s eta 0:00:01\r\u001b[K     |████████████████▊               | 778kB 7.3MB/s eta 0:00:01\r\u001b[K     |█████████████████               | 788kB 7.3MB/s eta 0:00:01\r\u001b[K     |█████████████████▏              | 798kB 7.3MB/s eta 0:00:01\r\u001b[K     |█████████████████▍              | 808kB 7.3MB/s eta 0:00:01\r\u001b[K     |█████████████████▋              | 819kB 7.3MB/s eta 0:00:01\r\u001b[K     |█████████████████▉              | 829kB 7.3MB/s eta 0:00:01\r\u001b[K     |██████████████████              | 839kB 7.3MB/s eta 0:00:01\r\u001b[K     |██████████████████▎             | 849kB 7.3MB/s eta 0:00:01\r\u001b[K     |██████████████████▌             | 860kB 7.3MB/s eta 0:00:01\r\u001b[K     |██████████████████▊             | 870kB 7.3MB/s eta 0:00:01\r\u001b[K     |███████████████████             | 880kB 7.3MB/s eta 0:00:01\r\u001b[K     |███████████████████▏            | 890kB 7.3MB/s eta 0:00:01\r\u001b[K     |███████████████████▍            | 901kB 7.3MB/s eta 0:00:01\r\u001b[K     |███████████████████▋            | 911kB 7.3MB/s eta 0:00:01\r\u001b[K     |███████████████████▉            | 921kB 7.3MB/s eta 0:00:01\r\u001b[K     |████████████████████            | 931kB 7.3MB/s eta 0:00:01\r\u001b[K     |████████████████████▎           | 942kB 7.3MB/s eta 0:00:01\r\u001b[K     |████████████████████▍           | 952kB 7.3MB/s eta 0:00:01\r\u001b[K     |████████████████████▋           | 962kB 7.3MB/s eta 0:00:01\r\u001b[K     |████████████████████▉           | 972kB 7.3MB/s eta 0:00:01\r\u001b[K     |█████████████████████           | 983kB 7.3MB/s eta 0:00:01\r\u001b[K     |█████████████████████▎          | 993kB 7.3MB/s eta 0:00:01\r\u001b[K     |█████████████████████▌          | 1.0MB 7.3MB/s eta 0:00:01\r\u001b[K     |█████████████████████▊          | 1.0MB 7.3MB/s eta 0:00:01\r\u001b[K     |██████████████████████          | 1.0MB 7.3MB/s eta 0:00:01\r\u001b[K     |██████████████████████▏         | 1.0MB 7.3MB/s eta 0:00:01\r\u001b[K     |██████████████████████▍         | 1.0MB 7.3MB/s eta 0:00:01\r\u001b[K     |██████████████████████▋         | 1.1MB 7.3MB/s eta 0:00:01\r\u001b[K     |██████████████████████▉         | 1.1MB 7.3MB/s eta 0:00:01\r\u001b[K     |███████████████████████         | 1.1MB 7.3MB/s eta 0:00:01\r\u001b[K     |███████████████████████▎        | 1.1MB 7.3MB/s eta 0:00:01\r\u001b[K     |███████████████████████▌        | 1.1MB 7.3MB/s eta 0:00:01\r\u001b[K     |███████████████████████▊        | 1.1MB 7.3MB/s eta 0:00:01\r\u001b[K     |████████████████████████        | 1.1MB 7.3MB/s eta 0:00:01\r\u001b[K     |████████████████████████▏       | 1.1MB 7.3MB/s eta 0:00:01\r\u001b[K     |████████████████████████▍       | 1.1MB 7.3MB/s eta 0:00:01\r\u001b[K     |████████████████████████▋       | 1.1MB 7.3MB/s eta 0:00:01\r\u001b[K     |████████████████████████▉       | 1.2MB 7.3MB/s eta 0:00:01\r\u001b[K     |█████████████████████████       | 1.2MB 7.3MB/s eta 0:00:01\r\u001b[K     |█████████████████████████▎      | 1.2MB 7.3MB/s eta 0:00:01\r\u001b[K     |█████████████████████████▌      | 1.2MB 7.3MB/s eta 0:00:01\r\u001b[K     |█████████████████████████▊      | 1.2MB 7.3MB/s eta 0:00:01\r\u001b[K     |██████████████████████████      | 1.2MB 7.3MB/s eta 0:00:01\r\u001b[K     |██████████████████████████▏     | 1.2MB 7.3MB/s eta 0:00:01\r\u001b[K     |██████████████████████████▍     | 1.2MB 7.3MB/s eta 0:00:01\r\u001b[K     |██████████████████████████▋     | 1.2MB 7.3MB/s eta 0:00:01\r\u001b[K     |██████████████████████████▉     | 1.2MB 7.3MB/s eta 0:00:01\r\u001b[K     |███████████████████████████     | 1.3MB 7.3MB/s eta 0:00:01\r\u001b[K     |███████████████████████████▎    | 1.3MB 7.3MB/s eta 0:00:01\r\u001b[K     |███████████████████████████▌    | 1.3MB 7.3MB/s eta 0:00:01\r\u001b[K     |███████████████████████████▊    | 1.3MB 7.3MB/s eta 0:00:01\r\u001b[K     |████████████████████████████    | 1.3MB 7.3MB/s eta 0:00:01\r\u001b[K     |████████████████████████████▏   | 1.3MB 7.3MB/s eta 0:00:01\r\u001b[K     |████████████████████████████▍   | 1.3MB 7.3MB/s eta 0:00:01\r\u001b[K     |████████████████████████████▋   | 1.3MB 7.3MB/s eta 0:00:01\r\u001b[K     |████████████████████████████▉   | 1.3MB 7.3MB/s eta 0:00:01\r\u001b[K     |█████████████████████████████   | 1.4MB 7.3MB/s eta 0:00:01\r\u001b[K     |█████████████████████████████▎  | 1.4MB 7.3MB/s eta 0:00:01\r\u001b[K     |█████████████████████████████▌  | 1.4MB 7.3MB/s eta 0:00:01\r\u001b[K     |█████████████████████████████▊  | 1.4MB 7.3MB/s eta 0:00:01\r\u001b[K     |██████████████████████████████  | 1.4MB 7.3MB/s eta 0:00:01\r\u001b[K     |██████████████████████████████▏ | 1.4MB 7.3MB/s eta 0:00:01\r\u001b[K     |██████████████████████████████▍ | 1.4MB 7.3MB/s eta 0:00:01\r\u001b[K     |██████████████████████████████▌ | 1.4MB 7.3MB/s eta 0:00:01\r\u001b[K     |██████████████████████████████▊ | 1.4MB 7.3MB/s eta 0:00:01\r\u001b[K     |███████████████████████████████ | 1.4MB 7.3MB/s eta 0:00:01\r\u001b[K     |███████████████████████████████▏| 1.5MB 7.3MB/s eta 0:00:01\r\u001b[K     |███████████████████████████████▍| 1.5MB 7.3MB/s eta 0:00:01\r\u001b[K     |███████████████████████████████▋| 1.5MB 7.3MB/s eta 0:00:01\r\u001b[K     |███████████████████████████████▉| 1.5MB 7.3MB/s eta 0:00:01\r\u001b[K     |████████████████████████████████| 1.5MB 7.3MB/s \n",
            "\u001b[?25hInstalling collected packages: pip\n",
            "  Found existing installation: pip 19.3.1\n",
            "    Uninstalling pip-19.3.1:\n",
            "      Successfully uninstalled pip-19.3.1\n",
            "Successfully installed pip-20.1.1\n",
            "Collecting logzero\n",
            "  Downloading logzero-1.5.0-py2.py3-none-any.whl (14 kB)\n",
            "Collecting numerapi\n",
            "  Downloading numerapi-2.3.1-py3-none-any.whl (24 kB)\n",
            "Requirement already satisfied: pandas in /usr/local/lib/python3.6/dist-packages (from -r requirements.txt (line 3)) (1.0.5)\n",
            "Requirement already satisfied: requests in /usr/local/lib/python3.6/dist-packages (from numerapi->-r requirements.txt (line 2)) (2.23.0)\n",
            "Requirement already satisfied: tqdm>=4.29.1 in /usr/local/lib/python3.6/dist-packages (from numerapi->-r requirements.txt (line 2)) (4.41.1)\n",
            "Requirement already satisfied: python-dateutil in /usr/local/lib/python3.6/dist-packages (from numerapi->-r requirements.txt (line 2)) (2.8.1)\n",
            "Requirement already satisfied: click>=7.0 in /usr/local/lib/python3.6/dist-packages (from numerapi->-r requirements.txt (line 2)) (7.1.2)\n",
            "Requirement already satisfied: pytz in /usr/local/lib/python3.6/dist-packages (from numerapi->-r requirements.txt (line 2)) (2018.9)\n",
            "Requirement already satisfied: numpy>=1.13.3 in /usr/local/lib/python3.6/dist-packages (from pandas->-r requirements.txt (line 3)) (1.18.5)\n",
            "Requirement already satisfied: certifi>=2017.4.17 in /usr/local/lib/python3.6/dist-packages (from requests->numerapi->-r requirements.txt (line 2)) (2020.6.20)\n",
            "Requirement already satisfied: idna<3,>=2.5 in /usr/local/lib/python3.6/dist-packages (from requests->numerapi->-r requirements.txt (line 2)) (2.10)\n",
            "Requirement already satisfied: chardet<4,>=3.0.2 in /usr/local/lib/python3.6/dist-packages (from requests->numerapi->-r requirements.txt (line 2)) (3.0.4)\n",
            "Requirement already satisfied: urllib3!=1.25.0,!=1.25.1,<1.26,>=1.21.1 in /usr/local/lib/python3.6/dist-packages (from requests->numerapi->-r requirements.txt (line 2)) (1.24.3)\n",
            "Requirement already satisfied: six>=1.5 in /usr/local/lib/python3.6/dist-packages (from python-dateutil->numerapi->-r requirements.txt (line 2)) (1.12.0)\n",
            "Installing collected packages: logzero, numerapi\n",
            "Successfully installed logzero-1.5.0 numerapi-2.3.1\n"
          ],
          "name": "stdout"
        }
      ]
    },
    {
      "cell_type": "code",
      "metadata": {
        "id": "E_0klTaw6OBi",
        "colab_type": "code",
        "colab": {}
      },
      "source": [
        "from glob import glob\n",
        "import numpy as np\n",
        "import numerapi\n",
        "import os\n",
        "import pandas as pd\n",
        "\n",
        "from mylogger import mylogger\n"
      ],
      "execution_count": 4,
      "outputs": []
    },
    {
      "cell_type": "code",
      "metadata": {
        "id": "Xw32x0hVw7vd",
        "colab_type": "code",
        "colab": {}
      },
      "source": [
        "from datasets import Features, print_log\n",
        "class Datasets(object):\n",
        "    \"\"\"Datasets class\n",
        "\n",
        "    データセットに関する処理をまとめる\n",
        "\n",
        "    \"\"\"\n",
        "    def __init__(self, dir_=\"./dataset\"):\n",
        "        \"\"\"__init__ func\n",
        "\n",
        "        APIの準備\n",
        "        パラメータの設置\n",
        "        ディレクトリの作成\n",
        "\n",
        "        Args:\n",
        "            dir_ (str): データセットを保存するパス\n",
        "        \"\"\"\n",
        "        self.napi = numerapi.NumerAPI(verbosity=\"info\")\n",
        "        self.dir_ = dir_\n",
        "\n",
        "        os.makedirs(dir_, exist_ok=True)\n",
        "\n",
        "    def print_log(self, message):\n",
        "        print_log(message)\n",
        "\n",
        "    def download(self):\n",
        "        \"\"\"download func\n",
        "\n",
        "        numerapi を使ってデータをdownloadする\n",
        "\n",
        "        \"\"\"\n",
        "        self.napi.download_current_dataset(unzip=True, dest_path=self.dir_)\n",
        "\n",
        "    def load(self, test=False):\n",
        "        \"\"\"load func\n",
        "\n",
        "        CSVデータをロードする\n",
        "\n",
        "        Args:\n",
        "            test (bool): テストデータかどうか\n",
        "\n",
        "        Return:\n",
        "            pandas.core.frame.DataFrame: 読み込んだデータ\n",
        "        \"\"\"\n",
        "        files = os.listdir(path=\"{}/\".format(self.dir_))\n",
        "        dataset_names = [f for f in files if os.path.isdir(os.path.join(self.dir_, f))]\n",
        "        sorted(dataset_names)\n",
        "        base_path = os.path.join(self.dir_, \"{}/numerai_{}_data.csv\")\n",
        "        if test:\n",
        "            data_path = base_path.format(dataset_names[0], \"tournament\")\n",
        "        else:\n",
        "            data_path = base_path.format(dataset_names[0], \"training\")\n",
        "\n",
        "        self.print_log(data_path)\n",
        "        self.row_data = pd.read_csv(data_path)\n",
        "\n",
        "        return self.row_data\n",
        "\n",
        "    def static(self):\n",
        "        \"\"\"static func\n",
        "\n",
        "        データの統計情報を表示する\n",
        "\n",
        "        \"\"\"\n",
        "        self.print_log(\"row: {}, colmun: {}\".format(self.row_data.shape[0], self.row_data.shape[1]))\n",
        "        self.print_log(self.row_data.head())\n",
        "\n",
        "        self.features = Features(self.row_data.columns)\n",
        " \n",
        "        # 平均の計算\n",
        "        mean_df = self.row_data.mean()\n",
        "        mean_df.plot(legend=False, kind='hist', title=\"各列の平均のヒストグラム\")\n"
      ],
      "execution_count": 5,
      "outputs": []
    },
    {
      "cell_type": "code",
      "metadata": {
        "id": "udelYhYl61IC",
        "colab_type": "code",
        "colab": {
          "base_uri": "https://localhost:8080/",
          "height": 51
        },
        "outputId": "ddc94d5a-0c36-41c3-b309-72042002f95e"
      },
      "source": [
        "# from datasets import Datasets\n",
        "datasets = Datasets()\n",
        "datasets.download()\n",
        "data_df = datasets.load()"
      ],
      "execution_count": 6,
      "outputs": [
        {
          "output_type": "stream",
          "text": [
            "./dataset/numerai_dataset_220.zip:  99%|█████████▉| 378M/381M [00:23<00:00, 19.1MB/s]2020-07-15 12:39:06,753 INFO numerapi.base_api: unzipping file...\n",
            "./dataset/numerai_dataset_220.zip: 381MB [00:39, 19.1MB/s]                           [I 200715 12:40:00 datasets:8] ./dataset/numerai_dataset_220/numerai_training_data.csv\n"
          ],
          "name": "stderr"
        }
      ]
    },
    {
      "cell_type": "code",
      "metadata": {
        "id": "TBc8FIBa-xs2",
        "colab_type": "code",
        "colab": {}
      },
      "source": [
        "# datasets.static()"
      ],
      "execution_count": 7,
      "outputs": []
    },
    {
      "cell_type": "code",
      "metadata": {
        "id": "8nC9NvsoYqpJ",
        "colab_type": "code",
        "colab": {
          "base_uri": "https://localhost:8080/",
          "height": 68
        },
        "outputId": "e2b48900-ef5c-4246-83e9-e7f6f38b6b6a"
      },
      "source": [
        "!pip install xgboost"
      ],
      "execution_count": 8,
      "outputs": [
        {
          "output_type": "stream",
          "text": [
            "Requirement already satisfied: xgboost in /usr/local/lib/python3.6/dist-packages (0.90)\n",
            "Requirement already satisfied: numpy in /usr/local/lib/python3.6/dist-packages (from xgboost) (1.18.5)\n",
            "Requirement already satisfied: scipy in /usr/local/lib/python3.6/dist-packages (from xgboost) (1.4.1)\n"
          ],
          "name": "stdout"
        }
      ]
    },
    {
      "cell_type": "code",
      "metadata": {
        "id": "Q_c75krkZZyu",
        "colab_type": "code",
        "colab": {
          "base_uri": "https://localhost:8080/",
          "height": 153
        },
        "outputId": "c9ce3457-ef62-49b1-e45e-4d232ae2da71"
      },
      "source": [
        "from xgboost import XGBRegressor\n",
        "\n",
        "feature_names = [f for f in datasets.row_data.columns if \"feature\" in f]\n",
        "model = XGBRegressor(max_depth=5, learning_rate=0.01, n_estimators=2000, colsample_bytree=0.1)\n",
        "model.fit(datasets.row_data[feature_names], datasets.row_data[\"target_kazutsugi\"])"
      ],
      "execution_count": 9,
      "outputs": [
        {
          "output_type": "stream",
          "text": [
            "[12:40:36] WARNING: /workspace/src/objective/regression_obj.cu:152: reg:linear is now deprecated in favor of reg:squarederror.\n"
          ],
          "name": "stdout"
        },
        {
          "output_type": "execute_result",
          "data": {
            "text/plain": [
              "XGBRegressor(base_score=0.5, booster='gbtree', colsample_bylevel=1,\n",
              "             colsample_bynode=1, colsample_bytree=0.1, gamma=0,\n",
              "             importance_type='gain', learning_rate=0.01, max_delta_step=0,\n",
              "             max_depth=5, min_child_weight=1, missing=None, n_estimators=2000,\n",
              "             n_jobs=1, nthread=None, objective='reg:linear', random_state=0,\n",
              "             reg_alpha=0, reg_lambda=1, scale_pos_weight=1, seed=None,\n",
              "             silent=None, subsample=1, verbosity=1)"
            ]
          },
          "metadata": {
            "tags": []
          },
          "execution_count": 9
        }
      ]
    },
    {
      "cell_type": "code",
      "metadata": {
        "id": "m0qr9JwQtua1",
        "colab_type": "code",
        "colab": {
          "base_uri": "https://localhost:8080/",
          "height": 34
        },
        "outputId": "8c78bb76-5bc6-4922-d9b1-41ba32fabe99"
      },
      "source": [
        "test_data = datasets.load(test=True)"
      ],
      "execution_count": 10,
      "outputs": [
        {
          "output_type": "stream",
          "text": [
            "[I 200715 13:18:32 datasets:8] ./dataset/numerai_dataset_220/numerai_tournament_data.csv\n"
          ],
          "name": "stderr"
        }
      ]
    },
    {
      "cell_type": "code",
      "metadata": {
        "id": "1QuVbus8urQt",
        "colab_type": "code",
        "colab": {}
      },
      "source": [
        "predictions = model.predict(test_data[feature_names])"
      ],
      "execution_count": null,
      "outputs": []
    },
    {
      "cell_type": "code",
      "metadata": {
        "id": "83Sd0MSItYXq",
        "colab_type": "code",
        "colab": {}
      },
      "source": [
        "ranked_prediction = training_data[\"prediction\"].rank(pct=True, method=\"first\")\n",
        "correlation = np.corrcoef(training_data[\"target\"], ranked_prediction)[0, 1]"
      ],
      "execution_count": null,
      "outputs": []
    }
  ]
}