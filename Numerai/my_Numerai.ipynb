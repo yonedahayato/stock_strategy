{
  "nbformat": 4,
  "nbformat_minor": 0,
  "metadata": {
    "colab": {
      "name": "my_Numerai.ipynb",
      "provenance": [],
      "collapsed_sections": [],
      "toc_visible": true,
      "authorship_tag": "ABX9TyNH+Lzvcej1Ub925qQGN9Ao",
      "include_colab_link": true
    },
    "kernelspec": {
      "name": "python3",
      "display_name": "Python 3"
    }
  },
  "cells": [
    {
      "cell_type": "markdown",
      "metadata": {
        "id": "view-in-github",
        "colab_type": "text"
      },
      "source": [
        "<a href=\"https://colab.research.google.com/github/yonedahayato/stock_strategy/blob/feature%2F49/Numerai/my_Numerai.ipynb\" target=\"_parent\"><img src=\"https://colab.research.google.com/assets/colab-badge.svg\" alt=\"Open In Colab\"/></a>"
      ]
    },
    {
      "cell_type": "code",
      "metadata": {
        "id": "ZLYKtFse4E3r",
        "colab_type": "code",
        "colab": {
          "base_uri": "https://localhost:8080/",
          "height": 136
        },
        "outputId": "20e3a27c-30f4-433d-d00e-0b96978b27be"
      },
      "source": [
        "!git clone https://github.com/yonedahayato/stock_strategy.git"
      ],
      "execution_count": 16,
      "outputs": [
        {
          "output_type": "stream",
          "text": [
            "Cloning into 'stock_strategy'...\n",
            "remote: Enumerating objects: 143, done.\u001b[K\n",
            "remote: Counting objects:   0% (1/143)\u001b[K\rremote: Counting objects:   1% (2/143)\u001b[K\rremote: Counting objects:   2% (3/143)\u001b[K\rremote: Counting objects:   3% (5/143)\u001b[K\rremote: Counting objects:   4% (6/143)\u001b[K\rremote: Counting objects:   5% (8/143)\u001b[K\rremote: Counting objects:   6% (9/143)\u001b[K\rremote: Counting objects:   7% (11/143)\u001b[K\rremote: Counting objects:   8% (12/143)\u001b[K\rremote: Counting objects:   9% (13/143)\u001b[K\rremote: Counting objects:  10% (15/143)\u001b[K\rremote: Counting objects:  11% (16/143)\u001b[K\rremote: Counting objects:  12% (18/143)\u001b[K\rremote: Counting objects:  13% (19/143)\u001b[K\rremote: Counting objects:  14% (21/143)\u001b[K\rremote: Counting objects:  15% (22/143)\u001b[K\rremote: Counting objects:  16% (23/143)\u001b[K\rremote: Counting objects:  17% (25/143)\u001b[K\rremote: Counting objects:  18% (26/143)\u001b[K\rremote: Counting objects:  19% (28/143)\u001b[K\rremote: Counting objects:  20% (29/143)\u001b[K\rremote: Counting objects:  21% (31/143)\u001b[K\rremote: Counting objects:  22% (32/143)\u001b[K\rremote: Counting objects:  23% (33/143)\u001b[K\rremote: Counting objects:  24% (35/143)\u001b[K\rremote: Counting objects:  25% (36/143)\u001b[K\rremote: Counting objects:  26% (38/143)\u001b[K\rremote: Counting objects:  27% (39/143)\u001b[K\rremote: Counting objects:  28% (41/143)\u001b[K\rremote: Counting objects:  29% (42/143)\u001b[K\rremote: Counting objects:  30% (43/143)\u001b[K\rremote: Counting objects:  31% (45/143)\u001b[K\rremote: Counting objects:  32% (46/143)\u001b[K\rremote: Counting objects:  33% (48/143)\u001b[K\rremote: Counting objects:  34% (49/143)\u001b[K\rremote: Counting objects:  35% (51/143)\u001b[K\rremote: Counting objects:  36% (52/143)\u001b[K\rremote: Counting objects:  37% (53/143)\u001b[K\rremote: Counting objects:  38% (55/143)\u001b[K\rremote: Counting objects:  39% (56/143)\u001b[K\rremote: Counting objects:  40% (58/143)\u001b[K\rremote: Counting objects:  41% (59/143)\u001b[K\rremote: Counting objects:  42% (61/143)\u001b[K\rremote: Counting objects:  43% (62/143)\u001b[K\rremote: Counting objects:  44% (63/143)\u001b[K\rremote: Counting objects:  45% (65/143)\u001b[K\rremote: Counting objects:  46% (66/143)\u001b[K\rremote: Counting objects:  47% (68/143)\u001b[K\rremote: Counting objects:  48% (69/143)\u001b[K\rremote: Counting objects:  49% (71/143)\u001b[K\rremote: Counting objects:  50% (72/143)\u001b[K\rremote: Counting objects:  51% (73/143)\u001b[K\rremote: Counting objects:  52% (75/143)\u001b[K\rremote: Counting objects:  53% (76/143)\u001b[K\rremote: Counting objects:  54% (78/143)\u001b[K\rremote: Counting objects:  55% (79/143)\u001b[K\rremote: Counting objects:  56% (81/143)\u001b[K\rremote: Counting objects:  57% (82/143)\u001b[K\rremote: Counting objects:  58% (83/143)\u001b[K\rremote: Counting objects:  59% (85/143)\u001b[K\rremote: Counting objects:  60% (86/143)\u001b[K\rremote: Counting objects:  61% (88/143)\u001b[K\rremote: Counting objects:  62% (89/143)\u001b[K\rremote: Counting objects:  63% (91/143)\u001b[K\rremote: Counting objects:  64% (92/143)\u001b[K\rremote: Counting objects:  65% (93/143)\u001b[K\rremote: Counting objects:  66% (95/143)\u001b[K\rremote: Counting objects:  67% (96/143)\u001b[K\rremote: Counting objects:  68% (98/143)\u001b[K\rremote: Counting objects:  69% (99/143)\u001b[K\rremote: Counting objects:  70% (101/143)\u001b[K\rremote: Counting objects:  71% (102/143)\u001b[K\rremote: Counting objects:  72% (103/143)\u001b[K\rremote: Counting objects:  73% (105/143)\u001b[K\rremote: Counting objects:  74% (106/143)\u001b[K\rremote: Counting objects:  75% (108/143)\u001b[K\rremote: Counting objects:  76% (109/143)\u001b[K\rremote: Counting objects:  77% (111/143)\u001b[K\rremote: Counting objects:  78% (112/143)\u001b[K\rremote: Counting objects:  79% (113/143)\u001b[K\rremote: Counting objects:  80% (115/143)\u001b[K\rremote: Counting objects:  81% (116/143)\u001b[K\rremote: Counting objects:  82% (118/143)\u001b[K\rremote: Counting objects:  83% (119/143)\u001b[K\rremote: Counting objects:  84% (121/143)\u001b[K\rremote: Counting objects:  85% (122/143)\u001b[K\rremote: Counting objects:  86% (123/143)\u001b[K\rremote: Counting objects:  87% (125/143)\u001b[K\rremote: Counting objects:  88% (126/143)\u001b[K\rremote: Counting objects:  89% (128/143)\u001b[K\rremote: Counting objects:  90% (129/143)\u001b[K\rremote: Counting objects:  91% (131/143)\u001b[K\rremote: Counting objects:  92% (132/143)\u001b[K\rremote: Counting objects:  93% (133/143)\u001b[K\rremote: Counting objects:  94% (135/143)\u001b[K\rremote: Counting objects:  95% (136/143)\u001b[K\rremote: Counting objects:  96% (138/143)\u001b[K\rremote: Counting objects:  97% (139/143)\u001b[K\rremote: Counting objects:  98% (141/143)\u001b[K\rremote: Counting objects:  99% (142/143)\u001b[K\rremote: Counting objects: 100% (143/143)\u001b[K\rremote: Counting objects: 100% (143/143), done.\u001b[K\n",
            "remote: Compressing objects:   1% (1/89)\u001b[K\rremote: Compressing objects:   2% (2/89)\u001b[K\rremote: Compressing objects:   3% (3/89)\u001b[K\rremote: Compressing objects:   4% (4/89)\u001b[K\rremote: Compressing objects:   5% (5/89)\u001b[K\rremote: Compressing objects:   6% (6/89)\u001b[K\rremote: Compressing objects:   7% (7/89)\u001b[K\rremote: Compressing objects:   8% (8/89)\u001b[K\rremote: Compressing objects:  10% (9/89)\u001b[K\rremote: Compressing objects:  11% (10/89)\u001b[K\rremote: Compressing objects:  12% (11/89)\u001b[K\rremote: Compressing objects:  13% (12/89)\u001b[K\rremote: Compressing objects:  14% (13/89)\u001b[K\rremote: Compressing objects:  15% (14/89)\u001b[K\rremote: Compressing objects:  16% (15/89)\u001b[K\rremote: Compressing objects:  17% (16/89)\u001b[K\rremote: Compressing objects:  19% (17/89)\u001b[K\rremote: Compressing objects:  20% (18/89)\u001b[K\rremote: Compressing objects:  21% (19/89)\u001b[K\rremote: Compressing objects:  22% (20/89)\u001b[K\rremote: Compressing objects:  23% (21/89)\u001b[K\rremote: Compressing objects:  24% (22/89)\u001b[K\rremote: Compressing objects:  25% (23/89)\u001b[K\rremote: Compressing objects:  26% (24/89)\u001b[K\rremote: Compressing objects:  28% (25/89)\u001b[K\rremote: Compressing objects:  29% (26/89)\u001b[K\rremote: Compressing objects:  30% (27/89)\u001b[K\rremote: Compressing objects:  31% (28/89)\u001b[K\rremote: Compressing objects:  32% (29/89)\u001b[K\rremote: Compressing objects:  33% (30/89)\u001b[K\rremote: Compressing objects:  34% (31/89)\u001b[K\rremote: Compressing objects:  35% (32/89)\u001b[K\rremote: Compressing objects:  37% (33/89)\u001b[K\rremote: Compressing objects:  38% (34/89)\u001b[K\rremote: Compressing objects:  39% (35/89)\u001b[K\rremote: Compressing objects:  40% (36/89)\u001b[K\rremote: Compressing objects:  41% (37/89)\u001b[K\rremote: Compressing objects:  42% (38/89)\u001b[K\rremote: Compressing objects:  43% (39/89)\u001b[K\rremote: Compressing objects:  44% (40/89)\u001b[K\rremote: Compressing objects:  46% (41/89)\u001b[K\rremote: Compressing objects:  47% (42/89)\u001b[K\rremote: Compressing objects:  48% (43/89)\u001b[K\rremote: Compressing objects:  49% (44/89)\u001b[K\rremote: Compressing objects:  50% (45/89)\u001b[K\rremote: Compressing objects:  51% (46/89)\u001b[K\rremote: Compressing objects:  52% (47/89)\u001b[K\rremote: Compressing objects:  53% (48/89)\u001b[K\rremote: Compressing objects:  55% (49/89)\u001b[K\rremote: Compressing objects:  56% (50/89)\u001b[K\rremote: Compressing objects:  57% (51/89)\u001b[K\rremote: Compressing objects:  58% (52/89)\u001b[K\rremote: Compressing objects:  59% (53/89)\u001b[K\rremote: Compressing objects:  60% (54/89)\u001b[K\rremote: Compressing objects:  61% (55/89)\u001b[K\rremote: Compressing objects:  62% (56/89)\u001b[K\rremote: Compressing objects:  64% (57/89)\u001b[K\rremote: Compressing objects:  65% (58/89)\u001b[K\rremote: Compressing objects:  66% (59/89)\u001b[K\rremote: Compressing objects:  67% (60/89)\u001b[K\rremote: Compressing objects:  68% (61/89)\u001b[K\rremote: Compressing objects:  69% (62/89)\u001b[K\rremote: Compressing objects:  70% (63/89)\u001b[K\rremote: Compressing objects:  71% (64/89)\u001b[K\rremote: Compressing objects:  73% (65/89)\u001b[K\rremote: Compressing objects:  74% (66/89)\u001b[K\rremote: Compressing objects:  75% (67/89)\u001b[K\rremote: Compressing objects:  76% (68/89)\u001b[K\rremote: Compressing objects:  77% (69/89)\u001b[K\rremote: Compressing objects:  78% (70/89)\u001b[K\rremote: Compressing objects:  79% (71/89)\u001b[K\rremote: Compressing objects:  80% (72/89)\u001b[K\rremote: Compressing objects:  82% (73/89)\u001b[K\rremote: Compressing objects:  83% (74/89)\u001b[K\rremote: Compressing objects:  84% (75/89)\u001b[K\rremote: Compressing objects:  85% (76/89)\u001b[K\rremote: Compressing objects:  86% (77/89)\u001b[K\rremote: Compressing objects:  87% (78/89)\u001b[K\rremote: Compressing objects:  88% (79/89)\u001b[K\rremote: Compressing objects:  89% (80/89)\u001b[K\rremote: Compressing objects:  91% (81/89)\u001b[K\rremote: Compressing objects:  92% (82/89)\u001b[K\rremote: Compressing objects:  93% (83/89)\u001b[K\rremote: Compressing objects:  94% (84/89)\u001b[K\rremote: Compressing objects:  95% (85/89)\u001b[K\rremote: Compressing objects:  96% (86/89)\u001b[K\rremote: Compressing objects:  97% (87/89)\u001b[K\rremote: Compressing objects:  98% (88/89)\u001b[K\rremote: Compressing objects: 100% (89/89)\u001b[K\rremote: Compressing objects: 100% (89/89), done.\u001b[K\n",
            "Receiving objects:   0% (1/1887)   \rReceiving objects:   1% (19/1887)   \rReceiving objects:   2% (38/1887)   \rReceiving objects:   3% (57/1887)   \rReceiving objects:   4% (76/1887)   \rReceiving objects:   5% (95/1887)   \rReceiving objects:   6% (114/1887)   \rReceiving objects:   7% (133/1887)   \rReceiving objects:   8% (151/1887)   \rReceiving objects:   9% (170/1887)   \rReceiving objects:  10% (189/1887)   \rReceiving objects:  11% (208/1887)   \rReceiving objects:  12% (227/1887)   \rReceiving objects:  13% (246/1887)   \rReceiving objects:  14% (265/1887)   \rReceiving objects:  15% (284/1887)   \rReceiving objects:  16% (302/1887)   \rReceiving objects:  17% (321/1887)   \rReceiving objects:  18% (340/1887)   \rReceiving objects:  19% (359/1887)   \rReceiving objects:  20% (378/1887)   \rReceiving objects:  21% (397/1887)   \rReceiving objects:  22% (416/1887)   \rReceiving objects:  23% (435/1887)   \rReceiving objects:  24% (453/1887)   \rReceiving objects:  25% (472/1887)   \rReceiving objects:  26% (491/1887)   \rReceiving objects:  27% (510/1887)   \rReceiving objects:  28% (529/1887)   \rReceiving objects:  29% (548/1887)   \rReceiving objects:  30% (567/1887)   \rReceiving objects:  31% (585/1887)   \rReceiving objects:  32% (604/1887)   \rReceiving objects:  33% (623/1887)   \rReceiving objects:  34% (642/1887)   \rReceiving objects:  35% (661/1887)   \rReceiving objects:  36% (680/1887)   \rReceiving objects:  37% (699/1887)   \rReceiving objects:  38% (718/1887)   \rReceiving objects:  39% (736/1887)   \rReceiving objects:  40% (755/1887)   \rReceiving objects:  41% (774/1887)   \rReceiving objects:  42% (793/1887)   \rReceiving objects:  43% (812/1887)   \rReceiving objects:  44% (831/1887)   \rReceiving objects:  45% (850/1887)   \rReceiving objects:  46% (869/1887)   \rReceiving objects:  47% (887/1887)   \rReceiving objects:  48% (906/1887)   \rReceiving objects:  49% (925/1887)   \rReceiving objects:  50% (944/1887)   \rReceiving objects:  51% (963/1887)   \rReceiving objects:  52% (982/1887)   \rReceiving objects:  53% (1001/1887)   \rReceiving objects:  54% (1019/1887)   \rReceiving objects:  55% (1038/1887)   \rReceiving objects:  56% (1057/1887)   \rReceiving objects:  57% (1076/1887)   \rReceiving objects:  58% (1095/1887)   \rReceiving objects:  59% (1114/1887)   \rReceiving objects:  60% (1133/1887)   \rReceiving objects:  61% (1152/1887)   \rReceiving objects:  62% (1170/1887)   \rReceiving objects:  63% (1189/1887)   \rReceiving objects:  64% (1208/1887)   \rReceiving objects:  65% (1227/1887)   \rReceiving objects:  66% (1246/1887)   \rremote: Total 1887 (delta 68), reused 104 (delta 41), pack-reused 1744\u001b[K\n",
            "Receiving objects:  67% (1265/1887)   \rReceiving objects:  68% (1284/1887)   \rReceiving objects:  69% (1303/1887)   \rReceiving objects:  70% (1321/1887)   \rReceiving objects:  71% (1340/1887)   \rReceiving objects:  72% (1359/1887)   \rReceiving objects:  73% (1378/1887)   \rReceiving objects:  74% (1397/1887)   \rReceiving objects:  75% (1416/1887)   \rReceiving objects:  76% (1435/1887)   \rReceiving objects:  77% (1453/1887)   \rReceiving objects:  78% (1472/1887)   \rReceiving objects:  79% (1491/1887)   \rReceiving objects:  80% (1510/1887)   \rReceiving objects:  81% (1529/1887)   \rReceiving objects:  82% (1548/1887)   \rReceiving objects:  83% (1567/1887)   \rReceiving objects:  84% (1586/1887)   \rReceiving objects:  85% (1604/1887)   \rReceiving objects:  86% (1623/1887)   \rReceiving objects:  87% (1642/1887)   \rReceiving objects:  88% (1661/1887)   \rReceiving objects:  89% (1680/1887)   \rReceiving objects:  90% (1699/1887)   \rReceiving objects:  91% (1718/1887)   \rReceiving objects:  92% (1737/1887)   \rReceiving objects:  93% (1755/1887)   \rReceiving objects:  94% (1774/1887)   \rReceiving objects:  95% (1793/1887)   \rReceiving objects:  96% (1812/1887)   \rReceiving objects:  97% (1831/1887)   \rReceiving objects:  98% (1850/1887)   \rReceiving objects:  99% (1869/1887)   \rReceiving objects: 100% (1887/1887)   \rReceiving objects: 100% (1887/1887), 1.93 MiB | 23.56 MiB/s, done.\n",
            "Resolving deltas:   0% (0/1148)   \rResolving deltas:   2% (26/1148)   \rResolving deltas:   3% (40/1148)   \rResolving deltas:   4% (47/1148)   \rResolving deltas:  26% (300/1148)   \rResolving deltas:  29% (343/1148)   \rResolving deltas:  31% (365/1148)   \rResolving deltas:  32% (377/1148)   \rResolving deltas:  37% (429/1148)   \rResolving deltas:  38% (439/1148)   \rResolving deltas:  39% (450/1148)   \rResolving deltas:  40% (464/1148)   \rResolving deltas:  41% (472/1148)   \rResolving deltas:  46% (530/1148)   \rResolving deltas:  47% (543/1148)   \rResolving deltas:  48% (556/1148)   \rResolving deltas:  49% (563/1148)   \rResolving deltas:  50% (578/1148)   \rResolving deltas:  51% (587/1148)   \rResolving deltas:  53% (612/1148)   \rResolving deltas:  54% (630/1148)   \rResolving deltas:  55% (632/1148)   \rResolving deltas:  56% (645/1148)   \rResolving deltas:  58% (666/1148)   \rResolving deltas:  64% (745/1148)   \rResolving deltas:  66% (764/1148)   \rResolving deltas:  68% (792/1148)   \rResolving deltas:  69% (797/1148)   \rResolving deltas:  75% (871/1148)   \rResolving deltas:  76% (873/1148)   \rResolving deltas:  77% (884/1148)   \rResolving deltas:  79% (908/1148)   \rResolving deltas:  80% (921/1148)   \rResolving deltas:  83% (961/1148)   \rResolving deltas:  84% (974/1148)   \rResolving deltas:  85% (978/1148)   \rResolving deltas:  86% (993/1148)   \rResolving deltas:  87% (1000/1148)   \rResolving deltas:  89% (1032/1148)   \rResolving deltas:  90% (1034/1148)   \rResolving deltas:  94% (1083/1148)   \rResolving deltas:  95% (1091/1148)   \rResolving deltas:  96% (1104/1148)   \rResolving deltas:  97% (1115/1148)   \rResolving deltas:  98% (1126/1148)   \rResolving deltas:  99% (1138/1148)   \rResolving deltas: 100% (1148/1148)   \rResolving deltas: 100% (1148/1148), done.\n"
          ],
          "name": "stdout"
        }
      ]
    },
    {
      "cell_type": "code",
      "metadata": {
        "id": "oBA0BmHd4xP2",
        "colab_type": "code",
        "colab": {
          "base_uri": "https://localhost:8080/",
          "height": 68
        },
        "outputId": "36535068-9ba9-46fe-a45f-3019f21d349c"
      },
      "source": [
        "%cd stock_strategy/\n",
        "!git checkout feature/49"
      ],
      "execution_count": 6,
      "outputs": [
        {
          "output_type": "stream",
          "text": [
            "/content/stock_strategy\n",
            "Branch 'feature/49' set up to track remote branch 'feature/49' from 'origin'.\n",
            "Switched to a new branch 'feature/49'\n"
          ],
          "name": "stdout"
        }
      ]
    },
    {
      "cell_type": "code",
      "metadata": {
        "id": "riZFWCdg9Jrs",
        "colab_type": "code",
        "colab": {
          "base_uri": "https://localhost:8080/",
          "height": 170
        },
        "outputId": "0b1b8854-24f7-40ae-83fa-cbf79dc6f808"
      },
      "source": [
        "!git fetch\n",
        "!git rebase"
      ],
      "execution_count": 17,
      "outputs": [
        {
          "output_type": "stream",
          "text": [
            "remote: Enumerating objects: 13, done.\u001b[K\n",
            "remote: Counting objects:   7% (1/13)\u001b[K\rremote: Counting objects:  15% (2/13)\u001b[K\rremote: Counting objects:  23% (3/13)\u001b[K\rremote: Counting objects:  30% (4/13)\u001b[K\rremote: Counting objects:  38% (5/13)\u001b[K\rremote: Counting objects:  46% (6/13)\u001b[K\rremote: Counting objects:  53% (7/13)\u001b[K\rremote: Counting objects:  61% (8/13)\u001b[K\rremote: Counting objects:  69% (9/13)\u001b[K\rremote: Counting objects:  76% (10/13)\u001b[K\rremote: Counting objects:  84% (11/13)\u001b[K\rremote: Counting objects:  92% (12/13)\u001b[K\rremote: Counting objects: 100% (13/13)\u001b[K\rremote: Counting objects: 100% (13/13), done.\u001b[K\n",
            "remote: Compressing objects:  14% (1/7)\u001b[K\rremote: Compressing objects:  28% (2/7)\u001b[K\rremote: Compressing objects:  42% (3/7)\u001b[K\rremote: Compressing objects:  57% (4/7)\u001b[K\rremote: Compressing objects:  71% (5/7)\u001b[K\rremote: Compressing objects:  85% (6/7)\u001b[K\rremote: Compressing objects: 100% (7/7)\u001b[K\rremote: Compressing objects: 100% (7/7), done.\u001b[K\n",
            "remote: Total 13 (delta 5), reused 10 (delta 4), pack-reused 0\u001b[K\n",
            "Unpacking objects:   7% (1/13)   \rUnpacking objects:  15% (2/13)   \rUnpacking objects:  23% (3/13)   \rUnpacking objects:  30% (4/13)   \rUnpacking objects:  38% (5/13)   \rUnpacking objects:  46% (6/13)   \rUnpacking objects:  53% (7/13)   \rUnpacking objects:  61% (8/13)   \rUnpacking objects:  69% (9/13)   \rUnpacking objects:  76% (10/13)   \rUnpacking objects:  84% (11/13)   \rUnpacking objects:  92% (12/13)   \rUnpacking objects: 100% (13/13)   \rUnpacking objects: 100% (13/13), done.\n",
            "From https://github.com/yonedahayato/stock_strategy\n",
            "   39403fa..f879837  feature/49 -> origin/feature/49\n",
            "First, rewinding head to replay your work on top of it...\n",
            "Fast-forwarded feature/49 to refs/remotes/origin/feature/49.\n"
          ],
          "name": "stdout"
        }
      ]
    },
    {
      "cell_type": "code",
      "metadata": {
        "id": "g93CTSBU5vWw",
        "colab_type": "code",
        "colab": {
          "base_uri": "https://localhost:8080/",
          "height": 34
        },
        "outputId": "76994bb2-749d-4323-ba54-af11d66c25f6"
      },
      "source": [
        "%cd Numerai/"
      ],
      "execution_count": 8,
      "outputs": [
        {
          "output_type": "stream",
          "text": [
            "/content/stock_strategy/Numerai\n"
          ],
          "name": "stdout"
        }
      ]
    },
    {
      "cell_type": "code",
      "metadata": {
        "id": "aah2MqgB53Ho",
        "colab_type": "code",
        "colab": {
          "base_uri": "https://localhost:8080/",
          "height": 394
        },
        "outputId": "7723ae25-a1a3-4031-a6b9-adcafa3656b9"
      },
      "source": [
        "!pip install --upgrade pip\n",
        "!pip install -r requirements.txt"
      ],
      "execution_count": 32,
      "outputs": [
        {
          "output_type": "stream",
          "text": [
            "Collecting pip\n",
            "\u001b[?25l  Downloading https://files.pythonhosted.org/packages/43/84/23ed6a1796480a6f1a2d38f2802901d078266bda38388954d01d3f2e821d/pip-20.1.1-py2.py3-none-any.whl (1.5MB)\n",
            "\u001b[K     |████████████████████████████████| 1.5MB 2.8MB/s \n",
            "\u001b[?25hInstalling collected packages: pip\n",
            "  Found existing installation: pip 19.3.1\n",
            "    Uninstalling pip-19.3.1:\n",
            "      Successfully uninstalled pip-19.3.1\n",
            "Successfully installed pip-20.1.1\n",
            "Requirement already satisfied: numerapi in /usr/local/lib/python3.6/dist-packages (from -r requirements.txt (line 1)) (2.3.1)\n",
            "Requirement already satisfied: pandas in /usr/local/lib/python3.6/dist-packages (from -r requirements.txt (line 2)) (1.0.5)\n",
            "Requirement already satisfied: pytz in /usr/local/lib/python3.6/dist-packages (from numerapi->-r requirements.txt (line 1)) (2018.9)\n",
            "Requirement already satisfied: requests in /usr/local/lib/python3.6/dist-packages (from numerapi->-r requirements.txt (line 1)) (2.23.0)\n",
            "Requirement already satisfied: python-dateutil in /usr/local/lib/python3.6/dist-packages (from numerapi->-r requirements.txt (line 1)) (2.8.1)\n",
            "Requirement already satisfied: tqdm>=4.29.1 in /usr/local/lib/python3.6/dist-packages (from numerapi->-r requirements.txt (line 1)) (4.41.1)\n",
            "Requirement already satisfied: click>=7.0 in /usr/local/lib/python3.6/dist-packages (from numerapi->-r requirements.txt (line 1)) (7.1.2)\n",
            "Requirement already satisfied: numpy>=1.13.3 in /usr/local/lib/python3.6/dist-packages (from pandas->-r requirements.txt (line 2)) (1.18.5)\n",
            "Requirement already satisfied: urllib3!=1.25.0,!=1.25.1,<1.26,>=1.21.1 in /usr/local/lib/python3.6/dist-packages (from requests->numerapi->-r requirements.txt (line 1)) (1.24.3)\n",
            "Requirement already satisfied: idna<3,>=2.5 in /usr/local/lib/python3.6/dist-packages (from requests->numerapi->-r requirements.txt (line 1)) (2.9)\n",
            "Requirement already satisfied: chardet<4,>=3.0.2 in /usr/local/lib/python3.6/dist-packages (from requests->numerapi->-r requirements.txt (line 1)) (3.0.4)\n",
            "Requirement already satisfied: certifi>=2017.4.17 in /usr/local/lib/python3.6/dist-packages (from requests->numerapi->-r requirements.txt (line 1)) (2020.4.5.2)\n",
            "Requirement already satisfied: six>=1.5 in /usr/local/lib/python3.6/dist-packages (from python-dateutil->numerapi->-r requirements.txt (line 1)) (1.12.0)\n"
          ],
          "name": "stdout"
        }
      ]
    },
    {
      "cell_type": "code",
      "metadata": {
        "id": "E_0klTaw6OBi",
        "colab_type": "code",
        "colab": {}
      },
      "source": [
        "import numerapi\n",
        "import os\n",
        "import pandas as pd"
      ],
      "execution_count": 40,
      "outputs": []
    },
    {
      "cell_type": "code",
      "metadata": {
        "id": "udelYhYl61IC",
        "colab_type": "code",
        "colab": {
          "base_uri": "https://localhost:8080/",
          "height": 219
        },
        "outputId": "1acae627-d200-4661-bb17-18738939bc79"
      },
      "source": [
        "del Datasets\n",
        "from datasets import Datasets\n",
        "datasets = Datasets()\n",
        "# datasets.download()\n",
        "datasets.aaa()\n",
        "dir(datasets)"
      ],
      "execution_count": 66,
      "outputs": [
        {
          "output_type": "error",
          "ename": "AttributeError",
          "evalue": "ignored",
          "traceback": [
            "\u001b[0;31m---------------------------------------------------------------------------\u001b[0m",
            "\u001b[0;31mAttributeError\u001b[0m                            Traceback (most recent call last)",
            "\u001b[0;32m<ipython-input-66-682ca6ec4e14>\u001b[0m in \u001b[0;36m<module>\u001b[0;34m()\u001b[0m\n\u001b[1;32m      3\u001b[0m \u001b[0mdatasets\u001b[0m \u001b[0;34m=\u001b[0m \u001b[0mDatasets\u001b[0m\u001b[0;34m(\u001b[0m\u001b[0;34m)\u001b[0m\u001b[0;34m\u001b[0m\u001b[0;34m\u001b[0m\u001b[0m\n\u001b[1;32m      4\u001b[0m \u001b[0;31m# datasets.download()\u001b[0m\u001b[0;34m\u001b[0m\u001b[0;34m\u001b[0m\u001b[0;34m\u001b[0m\u001b[0m\n\u001b[0;32m----> 5\u001b[0;31m \u001b[0mdatasets\u001b[0m\u001b[0;34m.\u001b[0m\u001b[0maaa\u001b[0m\u001b[0;34m(\u001b[0m\u001b[0;34m)\u001b[0m\u001b[0;34m\u001b[0m\u001b[0;34m\u001b[0m\u001b[0m\n\u001b[0m\u001b[1;32m      6\u001b[0m \u001b[0mdir\u001b[0m\u001b[0;34m(\u001b[0m\u001b[0mdatasets\u001b[0m\u001b[0;34m)\u001b[0m\u001b[0;34m\u001b[0m\u001b[0;34m\u001b[0m\u001b[0m\n",
            "\u001b[0;31mAttributeError\u001b[0m: 'Datasets' object has no attribute 'aaa'"
          ]
        }
      ]
    },
    {
      "cell_type": "code",
      "metadata": {
        "id": "OniZwDP_9O9E",
        "colab_type": "code",
        "colab": {
          "base_uri": "https://localhost:8080/",
          "height": 34
        },
        "outputId": "b2cd3605-a20d-4c39-8845-695d58c79d38"
      },
      "source": [
        "data_df = datasets.load()"
      ],
      "execution_count": 28,
      "outputs": [
        {
          "output_type": "stream",
          "text": [
            "./datasets/numerai_dataset_217/numerai_training_data.csv\n"
          ],
          "name": "stdout"
        }
      ]
    },
    {
      "cell_type": "code",
      "metadata": {
        "id": "TBc8FIBa-xs2",
        "colab_type": "code",
        "colab": {
          "base_uri": "https://localhost:8080/",
          "height": 204
        },
        "outputId": "dc5ceda9-0c28-4f4f-f1e5-07b073c82afc"
      },
      "source": [
        "print(data_df.shape)\n",
        "print(data_df.columns)"
      ],
      "execution_count": 31,
      "outputs": [
        {
          "output_type": "stream",
          "text": [
            "(501808, 314)\n",
            "Index(['id', 'era', 'data_type', 'feature_intelligence1',\n",
            "       'feature_intelligence2', 'feature_intelligence3',\n",
            "       'feature_intelligence4', 'feature_intelligence5',\n",
            "       'feature_intelligence6', 'feature_intelligence7',\n",
            "       ...\n",
            "       'feature_wisdom38', 'feature_wisdom39', 'feature_wisdom40',\n",
            "       'feature_wisdom41', 'feature_wisdom42', 'feature_wisdom43',\n",
            "       'feature_wisdom44', 'feature_wisdom45', 'feature_wisdom46',\n",
            "       'target_kazutsugi'],\n",
            "      dtype='object', length=314)\n"
          ],
          "name": "stdout"
        }
      ]
    }
  ]
}